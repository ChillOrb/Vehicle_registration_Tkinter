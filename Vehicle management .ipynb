{
 "cells": [
  {
   "cell_type": "code",
   "execution_count": null,
   "metadata": {},
   "outputs": [
    {
     "name": "stdout",
     "output_type": "stream",
     "text": [
      "VEHICLE Name: Qx60\n",
      "TYPE OF VEHICLE: SUV\n"
     ]
    }
   ],
   "source": [
    "from tkinter import *\n",
    "from tkinter import ttk \n",
    "from shutil import copyfile \n",
    "import os \n",
    "master = Tk()\n",
    "count=0\n",
    "def addrec():\n",
    "    f = open('open.txt', 'a')\n",
    "    vehicle = s1.get()\n",
    "    type = s2.get()\n",
    "    company=s3.get()\n",
    "    engine=s4.get()\n",
    "    mileage=s5.get()\n",
    "    f.writelines(vehicle.ljust(10) + type.ljust(10) + company.ljust(10)+engine.ljust(10)+\n",
    "    mileage.ljust(10)+\"\\n\")\n",
    "    f.close()\n",
    "def nextrec():\n",
    "    global count\n",
    "    f=open('open.txt','r')\n",
    "    i=0\n",
    "    while(i<=count):\n",
    "        l=f.readline()\n",
    "        i=i+1\n",
    "    list1=l.split()\n",
    "    if list1.__len__() != 0:\n",
    "        s1.set(list1[0])\n",
    "        s2.set(list1[1])\n",
    "        s3.set(list1[2])\n",
    "        s4.set(list1[3])\n",
    "        s5.set(list1[4])\n",
    "        count = count + 1\n",
    "        f.close()\n",
    "        l6.config(text=count)\n",
    "\n",
    "def prevrec():\n",
    "    global count\n",
    "    if count!=1:\n",
    "        f=open('open.txt','r')\n",
    "        i=0\n",
    "        count = count - 1\n",
    "        while(i<count):\n",
    "            l=f.readline()\n",
    "            i=i+1\n",
    "        list1=l.split()\n",
    "        s1.set(list1[0])\n",
    "        s2.set(list1[1])\n",
    "        s3.set(list1[2])\n",
    "        s4.set(list1[3])\n",
    "        s5.set(list1[4])\n",
    "        f.close()\n",
    "        l6.config(text=count)\n",
    "def deleterec():\n",
    "    infile = open('open.txt', 'r').readlines()\n",
    "    with open('output.txt', 'w') as outfile:\n",
    "        for index, line in enumerate(infile):\n",
    "            if index != count-1:\n",
    "                outfile.write(line) \n",
    "                copyfile(\"output.txt\",\"open.txt\")\n",
    "    os.remove(\"output.txt\")\n",
    "def show_entry_fields():\n",
    "    print(\"VEHICLE Name: %s\\nTYPE OF VEHICLE: %s\" % (s1.get(), s2.get()))\n",
    "s1 = StringVar()\n",
    "s2 = StringVar()\n",
    "s3=StringVar()\n",
    "s4=StringVar()\n",
    "s5=StringVar()\n",
    "s6=StringVar()\n",
    "label1 = ttk.Label(master, text=\"VEHICLE NAME\")\n",
    "label1.grid(row=0,pady=4)\n",
    "l2 = Label(master, text=\"TYPE\")\n",
    "l2.grid(row=1,pady=4)\n",
    "l3 = Label(master, text=\"COMPANY NAME\")\n",
    "l3.grid(row=2,pady=4)\n",
    "l4 = Label(master, text=\"ENGINE SIZE\")\n",
    "l4.grid(row=0,column=2,columnspan=4,pady=4) \n",
    "l5 = Label(master, text=\"MILEAGE\")\n",
    "l5.grid(row=1,column=2,columnspan=4,pady=4)\n",
    "l6 = Label(master, text=\"LINE NO.\")\n",
    "l6.grid(row=2,column=2,columnspan=4,pady=4)\n",
    "e1 = Entry(master,textvariable=s1)\n",
    "e1.grid(row=0, column=1,pady=4)\n",
    "e2 = Entry(master,textvariable=s2)\n",
    "e2.grid(row=1, column=1,pady=4)\n",
    "e3 = Entry(master,textvariable=s3)\n",
    "e3.grid(row=2, column=1,pady=4)\n",
    "e4 = Entry(master,textvariable=s4)\n",
    "e4.grid(row=0, column=6,columnspan=4,pady=4)\n",
    "e5 = Entry(master,textvariable=s5)\n",
    "e5.grid(row=1, column=6,columnspan=4,pady=4)\n",
    "e6 = Entry(master,textvariable=s6)\n",
    "e6.grid(row=2, column=6,columnspan=4,pady=4)\n",
    "Button(master, text='Quit', command=master.quit).grid(row=3, column=0, sticky=W, pady=4)\n",
    "Button(master, text='SHOW', command=show_entry_fields).grid(row=3, column=1, sticky=W, pady=4)\n",
    "Button(master, text='ADD', command=addrec).grid(row=3, column=2, sticky=W, pady=4)\n",
    "Button(master, text='>', command=nextrec).grid(row=3, column=3, sticky=W, pady=4)\n",
    "Button(master, text='<', command=prevrec).grid(row=3, column=4, sticky=W, pady=4)\n",
    "Button(master, text='DELETE', command=deleterec).grid(row=3, column=5, sticky=W, pady=4)\n",
    "master.mainloop()\n",
    "\n",
    "\n"
   ]
  },
  {
   "cell_type": "code",
   "execution_count": null,
   "metadata": {},
   "outputs": [],
   "source": []
  },
  {
   "cell_type": "code",
   "execution_count": 1,
   "metadata": {},
   "outputs": [],
   "source": []
  },
  {
   "cell_type": "code",
   "execution_count": null,
   "metadata": {},
   "outputs": [],
   "source": []
  },
  {
   "cell_type": "code",
   "execution_count": null,
   "metadata": {},
   "outputs": [],
   "source": []
  },
  {
   "cell_type": "code",
   "execution_count": null,
   "metadata": {},
   "outputs": [],
   "source": []
  },
  {
   "cell_type": "code",
   "execution_count": null,
   "metadata": {},
   "outputs": [],
   "source": []
  },
  {
   "cell_type": "code",
   "execution_count": 10,
   "metadata": {},
   "outputs": [
    {
     "name": "stdout",
     "output_type": "stream",
     "text": [
      "VEHICLE Name: \n",
      "TYPE OF VEHICLE: \n"
     ]
    },
    {
     "name": "stderr",
     "output_type": "stream",
     "text": [
      "Exception in Tkinter callback\n",
      "Traceback (most recent call last):\n",
      "  File \"/anaconda3/lib/python3.7/tkinter/__init__.py\", line 1705, in __call__\n",
      "    return self.func(*args)\n",
      "  File \"<ipython-input-10-ac342d355862>\", line 44, in prevrec\n",
      "    list1=l.split()\n",
      "UnboundLocalError: local variable 'l' referenced before assignment\n",
      "Exception in Tkinter callback\n",
      "Traceback (most recent call last):\n",
      "  File \"/anaconda3/lib/python3.7/tkinter/__init__.py\", line 1705, in __call__\n",
      "    return self.func(*args)\n",
      "  File \"<ipython-input-10-ac342d355862>\", line 24, in nextrec\n",
      "    list1=l.split()\n",
      "UnboundLocalError: local variable 'l' referenced before assignment\n"
     ]
    },
    {
     "name": "stdout",
     "output_type": "stream",
     "text": [
      "VEHICLE Name: \n",
      "TYPE OF VEHICLE: \n",
      "VEHICLE Name: \n",
      "TYPE OF VEHICLE: \n",
      "VEHICLE Name: \n",
      "TYPE OF VEHICLE: \n"
     ]
    }
   ],
   "source": []
  },
  {
   "cell_type": "code",
   "execution_count": null,
   "metadata": {},
   "outputs": [],
   "source": []
  }
 ],
 "metadata": {
  "kernelspec": {
   "display_name": "Python 3",
   "language": "python",
   "name": "python3"
  },
  "language_info": {
   "codemirror_mode": {
    "name": "ipython",
    "version": 3
   },
   "file_extension": ".py",
   "mimetype": "text/x-python",
   "name": "python",
   "nbconvert_exporter": "python",
   "pygments_lexer": "ipython3",
   "version": "3.7.1"
  }
 },
 "nbformat": 4,
 "nbformat_minor": 2
}
